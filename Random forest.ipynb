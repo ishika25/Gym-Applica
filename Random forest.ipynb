{
 "cells": [
  {
   "cell_type": "code",
   "execution_count": 1,
   "id": "447805b1",
   "metadata": {},
   "outputs": [
    {
     "name": "stdout",
     "output_type": "stream",
     "text": [
      "Requirement already satisfied: pandas in c:\\users\\dell\\anaconda3\\envs\\sapp\\lib\\site-packages (1.4.1)Note: you may need to restart the kernel to use updated packages.\n",
      "Requirement already satisfied: numpy>=1.18.5 in c:\\users\\dell\\anaconda3\\envs\\sapp\\lib\\site-packages (from pandas) (1.22.3)\n",
      "Requirement already satisfied: python-dateutil>=2.8.1 in c:\\users\\dell\\anaconda3\\envs\\sapp\\lib\\site-packages (from pandas) (2.8.2)\n",
      "Requirement already satisfied: pytz>=2020.1 in c:\\users\\dell\\anaconda3\\envs\\sapp\\lib\\site-packages (from pandas) (2021.3)\n",
      "Requirement already satisfied: six>=1.5 in c:\\users\\dell\\anaconda3\\envs\\sapp\\lib\\site-packages (from python-dateutil>=2.8.1->pandas) (1.16.0)\n",
      "\n"
     ]
    }
   ],
   "source": [
    "pip install pandas"
   ]
  },
  {
   "cell_type": "code",
   "execution_count": 2,
   "id": "32de393d",
   "metadata": {},
   "outputs": [
    {
     "name": "stdout",
     "output_type": "stream",
     "text": [
      "Requirement already satisfied: numpy in c:\\users\\dell\\anaconda3\\envs\\sapp\\lib\\site-packages (1.22.3)Note: you may need to restart the kernel to use updated packages.\n",
      "\n"
     ]
    }
   ],
   "source": [
    "pip install numpy \n"
   ]
  },
  {
   "cell_type": "code",
   "execution_count": 3,
   "id": "de550085",
   "metadata": {},
   "outputs": [
    {
     "name": "stdout",
     "output_type": "stream",
     "text": [
      "Requirement already satisfied: sklearn in c:\\users\\dell\\anaconda3\\envs\\sapp\\lib\\site-packages (0.0)Note: you may need to restart the kernel to use updated packages.\n",
      "Requirement already satisfied: scikit-learn in c:\\users\\dell\\anaconda3\\envs\\sapp\\lib\\site-packages (from sklearn) (1.0.2)\n",
      "\n",
      "Requirement already satisfied: threadpoolctl>=2.0.0 in c:\\users\\dell\\anaconda3\\envs\\sapp\\lib\\site-packages (from scikit-learn->sklearn) (3.1.0)\n",
      "Requirement already satisfied: numpy>=1.14.6 in c:\\users\\dell\\anaconda3\\envs\\sapp\\lib\\site-packages (from scikit-learn->sklearn) (1.22.3)\n",
      "Requirement already satisfied: joblib>=0.11 in c:\\users\\dell\\anaconda3\\envs\\sapp\\lib\\site-packages (from scikit-learn->sklearn) (1.1.0)\n",
      "Requirement already satisfied: scipy>=1.1.0 in c:\\users\\dell\\anaconda3\\envs\\sapp\\lib\\site-packages (from scikit-learn->sklearn) (1.8.0)\n"
     ]
    }
   ],
   "source": [
    "pip install sklearn "
   ]
  },
  {
   "cell_type": "code",
   "execution_count": 4,
   "id": "5d08c8b8",
   "metadata": {},
   "outputs": [
    {
     "name": "stdout",
     "output_type": "stream",
     "text": [
      "Requirement already satisfied: openpyxl in c:\\users\\dell\\anaconda3\\envs\\sapp\\lib\\site-packages (3.0.9)Note: you may need to restart the kernel to use updated packages.\n",
      "Requirement already satisfied: et-xmlfile in c:\\users\\dell\\anaconda3\\envs\\sapp\\lib\\site-packages (from openpyxl) (1.1.0)\n",
      "\n"
     ]
    }
   ],
   "source": [
    "pip install openpyxl\n"
   ]
  },
  {
   "cell_type": "code",
   "execution_count": 5,
   "id": "95452661",
   "metadata": {},
   "outputs": [],
   "source": [
    "\n",
    "\n",
    "import pandas as pd\n",
    "import numpy as np\n",
    "from sklearn import datasets\n",
    "from sklearn import metrics\n",
    "from sklearn.linear_model import LogisticRegression\n",
    "from sklearn.ensemble import RandomForestClassifier\n",
    "from sklearn.preprocessing import LabelEncoder"
   ]
  },
  {
   "cell_type": "code",
   "execution_count": 6,
   "id": "7299ade3",
   "metadata": {},
   "outputs": [
    {
     "data": {
      "text/html": [
       "<div>\n",
       "<style scoped>\n",
       "    .dataframe tbody tr th:only-of-type {\n",
       "        vertical-align: middle;\n",
       "    }\n",
       "\n",
       "    .dataframe tbody tr th {\n",
       "        vertical-align: top;\n",
       "    }\n",
       "\n",
       "    .dataframe thead th {\n",
       "        text-align: right;\n",
       "    }\n",
       "</style>\n",
       "<table border=\"1\" class=\"dataframe\">\n",
       "  <thead>\n",
       "    <tr style=\"text-align: right;\">\n",
       "      <th></th>\n",
       "      <th>Age</th>\n",
       "      <th>Height</th>\n",
       "      <th>weight</th>\n",
       "      <th>BMI</th>\n",
       "      <th>Class</th>\n",
       "      <th>Prediction</th>\n",
       "    </tr>\n",
       "  </thead>\n",
       "  <tbody>\n",
       "    <tr>\n",
       "      <th>0</th>\n",
       "      <td>48</td>\n",
       "      <td>4.1</td>\n",
       "      <td>86</td>\n",
       "      <td>40</td>\n",
       "      <td>Extremely obese</td>\n",
       "      <td>Extremely obese--normal exercise+yoga+heavy di...</td>\n",
       "    </tr>\n",
       "    <tr>\n",
       "      <th>1</th>\n",
       "      <td>53</td>\n",
       "      <td>4.1</td>\n",
       "      <td>91</td>\n",
       "      <td>42</td>\n",
       "      <td>Extremely obese</td>\n",
       "      <td>Extremely obese--normal exercise+yoga+heavy di...</td>\n",
       "    </tr>\n",
       "    <tr>\n",
       "      <th>2</th>\n",
       "      <td>42</td>\n",
       "      <td>4.1</td>\n",
       "      <td>95</td>\n",
       "      <td>44</td>\n",
       "      <td>Extremely obese</td>\n",
       "      <td>Extremely obese--normal exercise+yoga+heavy di...</td>\n",
       "    </tr>\n",
       "    <tr>\n",
       "      <th>3</th>\n",
       "      <td>48</td>\n",
       "      <td>4.1</td>\n",
       "      <td>100</td>\n",
       "      <td>46</td>\n",
       "      <td>Extremely obese</td>\n",
       "      <td>Extremely obese--normal exercise+yoga+heavy di...</td>\n",
       "    </tr>\n",
       "    <tr>\n",
       "      <th>4</th>\n",
       "      <td>22</td>\n",
       "      <td>4.1</td>\n",
       "      <td>104</td>\n",
       "      <td>48</td>\n",
       "      <td>Extremely obese</td>\n",
       "      <td>Extremely obese--normal exercise+yoga+heavy di...</td>\n",
       "    </tr>\n",
       "    <tr>\n",
       "      <th>...</th>\n",
       "      <td>...</td>\n",
       "      <td>...</td>\n",
       "      <td>...</td>\n",
       "      <td>...</td>\n",
       "      <td>...</td>\n",
       "      <td>...</td>\n",
       "    </tr>\n",
       "    <tr>\n",
       "      <th>1171</th>\n",
       "      <td>50</td>\n",
       "      <td>6.9</td>\n",
       "      <td>59</td>\n",
       "      <td>14</td>\n",
       "      <td>Under weight</td>\n",
       "      <td>Under weight--protines+carbs+normal weights -&gt;...</td>\n",
       "    </tr>\n",
       "    <tr>\n",
       "      <th>1172</th>\n",
       "      <td>49</td>\n",
       "      <td>6.9</td>\n",
       "      <td>64</td>\n",
       "      <td>15</td>\n",
       "      <td>Under weight</td>\n",
       "      <td>Under weight--protines+carbs+normal weights -&gt;...</td>\n",
       "    </tr>\n",
       "    <tr>\n",
       "      <th>1173</th>\n",
       "      <td>52</td>\n",
       "      <td>6.9</td>\n",
       "      <td>68</td>\n",
       "      <td>16</td>\n",
       "      <td>Under weight</td>\n",
       "      <td>Under weight--protines+carbs+normal weights -&gt;...</td>\n",
       "    </tr>\n",
       "    <tr>\n",
       "      <th>1174</th>\n",
       "      <td>36</td>\n",
       "      <td>6.9</td>\n",
       "      <td>73</td>\n",
       "      <td>17</td>\n",
       "      <td>Under weight</td>\n",
       "      <td>Under weight--protines+carbs+normal weights -&gt;...</td>\n",
       "    </tr>\n",
       "    <tr>\n",
       "      <th>1175</th>\n",
       "      <td>26</td>\n",
       "      <td>6.9</td>\n",
       "      <td>77</td>\n",
       "      <td>18</td>\n",
       "      <td>Under weight</td>\n",
       "      <td>Under weight--protines+carbs+normal weights -&gt;...</td>\n",
       "    </tr>\n",
       "  </tbody>\n",
       "</table>\n",
       "<p>1176 rows × 6 columns</p>\n",
       "</div>"
      ],
      "text/plain": [
       "      Age  Height  weight  BMI            Class  \\\n",
       "0      48     4.1      86   40  Extremely obese   \n",
       "1      53     4.1      91   42  Extremely obese   \n",
       "2      42     4.1      95   44  Extremely obese   \n",
       "3      48     4.1     100   46  Extremely obese   \n",
       "4      22     4.1     104   48  Extremely obese   \n",
       "...   ...     ...     ...  ...              ...   \n",
       "1171   50     6.9      59   14     Under weight   \n",
       "1172   49     6.9      64   15     Under weight   \n",
       "1173   52     6.9      68   16     Under weight   \n",
       "1174   36     6.9      73   17     Under weight   \n",
       "1175   26     6.9      77   18     Under weight   \n",
       "\n",
       "                                             Prediction  \n",
       "0     Extremely obese--normal exercise+yoga+heavy di...  \n",
       "1     Extremely obese--normal exercise+yoga+heavy di...  \n",
       "2     Extremely obese--normal exercise+yoga+heavy di...  \n",
       "3     Extremely obese--normal exercise+yoga+heavy di...  \n",
       "4     Extremely obese--normal exercise+yoga+heavy di...  \n",
       "...                                                 ...  \n",
       "1171  Under weight--protines+carbs+normal weights ->...  \n",
       "1172  Under weight--protines+carbs+normal weights ->...  \n",
       "1173  Under weight--protines+carbs+normal weights ->...  \n",
       "1174  Under weight--protines+carbs+normal weights ->...  \n",
       "1175  Under weight--protines+carbs+normal weights ->...  \n",
       "\n",
       "[1176 rows x 6 columns]"
      ]
     },
     "execution_count": 6,
     "metadata": {},
     "output_type": "execute_result"
    }
   ],
   "source": [
    "data = pd.read_excel(r'dataGYM.xlsx')\n",
    "data"
   ]
  },
  {
   "cell_type": "code",
   "execution_count": 7,
   "id": "d7d31bb8",
   "metadata": {},
   "outputs": [],
   "source": [
    "df = data.copy()"
   ]
  },
  {
   "cell_type": "code",
   "execution_count": 8,
   "id": "29b1282d",
   "metadata": {},
   "outputs": [],
   "source": [
    "del df['BMI']\n",
    "del df['Class']\n",
    "label_encoder = LabelEncoder()\n",
    "df['Prediction'] = label_encoder.fit_transform(df['Prediction'])"
   ]
  },
  {
   "cell_type": "code",
   "execution_count": 9,
   "id": "ffb81127",
   "metadata": {},
   "outputs": [],
   "source": [
    "X = df.iloc[:,:-1]\n",
    "y = df.iloc[:,-1]"
   ]
  },
  {
   "cell_type": "code",
   "execution_count": 10,
   "id": "e4189cbe",
   "metadata": {},
   "outputs": [],
   "source": [
    "from sklearn.model_selection import train_test_split\n",
    "\n",
    "X_train, X_test, y_train, y_test = train_test_split(X,y, test_size=0.2, random_state=0)\n"
   ]
  },
  {
   "cell_type": "code",
   "execution_count": 11,
   "id": "6126f787",
   "metadata": {},
   "outputs": [
    {
     "name": "stdout",
     "output_type": "stream",
     "text": [
      "RandomForestClassifier(n_estimators=20)\n"
     ]
    }
   ],
   "source": [
    "model_GYM = RandomForestClassifier(n_estimators=20)\n",
    "\n",
    "model_GYM.fit(X_train, y_train)\n",
    "print(model_GYM)\n"
   ]
  },
  {
   "cell_type": "code",
   "execution_count": 12,
   "id": "2b2c8c4b",
   "metadata": {},
   "outputs": [],
   "source": [
    "\n",
    "# make predictions\n",
    "expected = y_test\n",
    "predicted = model_GYM.predict(X_test)"
   ]
  },
  {
   "cell_type": "code",
   "execution_count": 13,
   "id": "8b43f090",
   "metadata": {},
   "outputs": [
    {
     "data": {
      "text/plain": [
       "array([[34,  0,  2,  0,  0],\n",
       "       [ 0, 37,  1,  5,  6],\n",
       "       [ 7,  0, 43,  3,  0],\n",
       "       [ 0,  5,  9, 32,  0],\n",
       "       [ 0,  9,  0,  0, 43]], dtype=int64)"
      ]
     },
     "execution_count": 13,
     "metadata": {},
     "output_type": "execute_result"
    }
   ],
   "source": [
    "# summarize the fit of the model\n",
    "#Correction\n",
    "metrics.classification_report(expected, predicted)\n",
    "metrics.confusion_matrix(expected, predicted)"
   ]
  },
  {
   "cell_type": "code",
   "execution_count": 18,
   "id": "ec8c73e7",
   "metadata": {},
   "outputs": [
    {
     "name": "stdout",
     "output_type": "stream",
     "text": [
      "Collecting pickle-mixin\n",
      "  Downloading pickle-mixin-1.0.2.tar.gz (5.1 kB)\n",
      "  Preparing metadata (setup.py): started\n",
      "  Preparing metadata (setup.py): finished with status 'done'\n",
      "Building wheels for collected packages: pickle-mixin\n",
      "  Building wheel for pickle-mixin (setup.py): started\n",
      "  Building wheel for pickle-mixin (setup.py): finished with status 'done'\n",
      "  Created wheel for pickle-mixin: filename=pickle_mixin-1.0.2-py3-none-any.whl size=6008 sha256=c75cca0c4d5e9f904a1268a554c50e8f0430bc6d753f3d5d29fffb703e583053\n",
      "  Stored in directory: c:\\users\\dell\\appdata\\local\\pip\\cache\\wheels\\2a\\a4\\6c\\83bfbc3b94f1bb43d634b07a6a893fd437a45c58b29aea5142\n",
      "Successfully built pickle-mixin\n",
      "Installing collected packages: pickle-mixin\n",
      "Successfully installed pickle-mixin-1.0.2\n",
      "Note: you may need to restart the kernel to use updated packages.\n"
     ]
    }
   ],
   "source": [
    "pip install pickle-mixin\n"
   ]
  },
  {
   "cell_type": "code",
   "execution_count": 19,
   "id": "45793c03",
   "metadata": {},
   "outputs": [],
   "source": [
    "import pickle\n",
    "\n",
    "pickle.dump(model_GYM, open(\"Model_GY.pkl\", \"wb\"))\n",
    "\n",
    "model = pickle.load(open(\"Model_GY.pkl\", \"rb\"))\n",
    "\n"
   ]
  },
  {
   "cell_type": "code",
   "execution_count": 20,
   "id": "207afb9f",
   "metadata": {},
   "outputs": [
    {
     "name": "stdout",
     "output_type": "stream",
     "text": [
      "[1]\n"
     ]
    },
    {
     "name": "stderr",
     "output_type": "stream",
     "text": [
      "C:\\Users\\DELL\\anaconda3\\envs\\sapp\\lib\\site-packages\\sklearn\\base.py:450: UserWarning: X does not have valid feature names, but RandomForestClassifier was fitted with feature names\n",
      "  warnings.warn(\n"
     ]
    }
   ],
   "source": [
    "\n",
    "print(model.predict([[40,5.6,70]]))"
   ]
  },
  {
   "cell_type": "code",
   "execution_count": null,
   "id": "7a30553b",
   "metadata": {},
   "outputs": [],
   "source": []
  },
  {
   "cell_type": "code",
   "execution_count": null,
   "id": "1d4f2b98",
   "metadata": {},
   "outputs": [],
   "source": []
  },
  {
   "cell_type": "code",
   "execution_count": null,
   "id": "22e807d4",
   "metadata": {},
   "outputs": [],
   "source": []
  }
 ],
 "metadata": {
  "kernelspec": {
   "display_name": "Python 3",
   "language": "python",
   "name": "python3"
  },
  "language_info": {
   "codemirror_mode": {
    "name": "ipython",
    "version": 3
   },
   "file_extension": ".py",
   "mimetype": "text/x-python",
   "name": "python",
   "nbconvert_exporter": "python",
   "pygments_lexer": "ipython3",
   "version": "3.8.12"
  }
 },
 "nbformat": 4,
 "nbformat_minor": 5
}
